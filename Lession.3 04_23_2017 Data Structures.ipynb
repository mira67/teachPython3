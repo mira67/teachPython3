{
 "cells": [
  {
   "cell_type": "markdown",
   "metadata": {},
   "source": [
    "# Outline: Data Structures\n",
    "<ul>\n",
    "<li>Strings</li>\n",
    "<li>Files</li>\n",
    "<ul>"
   ]
  },
  {
   "cell_type": "markdown",
   "metadata": {},
   "source": [
    "# Part 1: Strings (index, length)\n",
    "\n",
    "## String Index, slices\n",
    "<ol>\n",
    "<li>A string is a sequence of characeters.</li>\n",
    "<li>We can get at any single character in a string using an index specified in square brackets</li>\n",
    "<li>The index value must be an integer\n",
    "and starts at <b>zero</b></li>\n",
    "<li>The index value can be an expression that is computed</li>\n",
    "<li>A segment of a string is called a 'slice'</li>\n",
    "<li>slice operator:\n",
    "The operator returns the part of the string\n",
    "from the “n-eth” character to the “m-eth” character,\n",
    "including the first but excluding the last.</li>\n",
    "<ol>"
   ]
  },
  {
   "cell_type": "code",
   "execution_count": null,
   "metadata": {},
   "outputs": [],
   "source": [
    "#practice string indexing\n",
    "fruit = 'apple'\n",
    "letter = fruit[1]\n",
    "print(letter)"
   ]
  },
  {
   "cell_type": "code",
   "execution_count": null,
   "metadata": {},
   "outputs": [],
   "source": [
    "#string slice\n",
    "s = 'hello world'\n",
    "print(s[0:5])\n",
    "print(s[6:11])\n",
    "print(s[:3])\n",
    "print(s[4:])\n",
    "print(s[5:5])#empty string result\n",
    "print(s[:])#full string"
   ]
  },
  {
   "cell_type": "markdown",
   "metadata": {},
   "source": [
    "## String Length, Traversal through a string, Strings are immutable\n",
    "<ol>\n",
    "<li>len(), a built-in function to calculate the length of a string.</li>\n",
    "<li>process a string one characeter at a time using whil or for loop</li>\n",
    "<ol>"
   ]
  },
  {
   "cell_type": "code",
   "execution_count": null,
   "metadata": {},
   "outputs": [],
   "source": [
    "#practice len() function on strings\n",
    "fruit = 'pineapple'\n",
    "x = len(fruit)\n",
    "print(x)"
   ]
  },
  {
   "cell_type": "code",
   "execution_count": null,
   "metadata": {},
   "outputs": [],
   "source": [
    "#traversal through a string with a loop\n",
    "#using while loop\n",
    "index = 0\n",
    "while index < len(fruit):\n",
    "    letter = fruit[index]\n",
    "    print(letter)\n",
    "    index = index + 1\n",
    "\n",
    "#using for loop\n",
    "for char in fruit:\n",
    "    print(char)"
   ]
  },
  {
   "cell_type": "code",
   "execution_count": null,
   "metadata": {},
   "outputs": [],
   "source": [
    "#strings are immutable\n",
    "s='test'\n",
    "s[0] = 't'"
   ]
  },
  {
   "cell_type": "markdown",
   "metadata": {},
   "source": [
    "## String 'in' operator, comparison\n",
    "<ol>\n",
    "<li>'in' is a boolean operator that takes two strings and returns True if the first appears as a substring in the second.</li>\n",
    "<li>comparison operators work on strings</li>\n",
    "<ol>"
   ]
  },
  {
   "cell_type": "code",
   "execution_count": null,
   "metadata": {},
   "outputs": [],
   "source": [
    "#in operator\n",
    "'p' in 'apple'"
   ]
  },
  {
   "cell_type": "code",
   "execution_count": null,
   "metadata": {},
   "outputs": [],
   "source": [
    "#string comparison\n",
    "s = 'apple'\n",
    "if s == 'apple':\n",
    "    print('right, apple')"
   ]
  },
  {
   "cell_type": "code",
   "execution_count": null,
   "metadata": {},
   "outputs": [],
   "source": [
    "#more string comparisons, ascii code\n",
    "s = 'Banana'\n",
    "if s < 'banana':\n",
    " print('Your string,' + s + ', comes before banana.')\n",
    "elif s > 'banana':\n",
    " print('Your string,' + s + ', comes after banana.')\n",
    "else:\n",
    " print('All right, bananas.')"
   ]
  },
  {
   "cell_type": "markdown",
   "metadata": {},
   "source": [
    "## String methods\n",
    "<ol>\n",
    "<li>Strings are an example of Python objects. An object contains both <b>data</b> (the actual string itself) and <b>methods</b>, which are effectively functions that are built into the object and are available to any instance of the object.</li>\n",
    "<li>The type function shows the type of an object and the dir() function shows the available methods</li>\n",
    "<ol>"
   ]
  },
  {
   "cell_type": "code",
   "execution_count": null,
   "metadata": {},
   "outputs": [],
   "source": [
    "#dir() to list function of an object\n",
    "s = 'python course'\n",
    "print(type(s))\n",
    "print(dir(s))#? what are the first part of functions?"
   ]
  },
  {
   "cell_type": "code",
   "execution_count": null,
   "metadata": {},
   "outputs": [],
   "source": [
    "#use help() to get simple documentation on a method\n",
    "help(str.capitalize)"
   ]
  },
  {
   "cell_type": "code",
   "execution_count": null,
   "metadata": {},
   "outputs": [],
   "source": [
    "#method example\n",
    "#upper case\n",
    "word = 'apple'\n",
    "new_word = word.upper()\n",
    "print(new_word)\n",
    "\n",
    "#find\n",
    "index = word.find('p')\n",
    "print('index: ',index)\n",
    "\n",
    "index = word.find('p',2)\n",
    "print('index: ',index)\n",
    "\n",
    "#remove white space (spaces, tabs, or new lines) \n",
    "#from the beginning and end of a string\n",
    "line = ' Let us start '\n",
    "print(line)\n",
    "print(line.strip())\n",
    "\n",
    "#startwith() method\n",
    "line = 'Have a nice day'\n",
    "print(line.startswith('Have'))\n",
    "print(line.startswith('h'))"
   ]
  },
  {
   "cell_type": "markdown",
   "metadata": {},
   "source": [
    "### Exercise 1 - String Parsing\n",
    "E1: Often, we want to look into a string and find a substring. For example if we were presented a series of lines formatted as follows:<br>\n",
    "From alberta.nicolas@umc.az.co Sat Feb 5 09:18:16 2009<br>\n",
    "Task: pull out only the second half of the email address (i.e., umc.az.co)\n"
   ]
  },
  {
   "cell_type": "code",
   "execution_count": 56,
   "metadata": {},
   "outputs": [
    {
     "name": "stdout",
     "output_type": "stream",
     "text": [
      "20\n",
      "30\n",
      "umc.az.co\n"
     ]
    }
   ],
   "source": [
    "#exercise code\n",
    "data = 'From alberta.nicolas@umc.az.co Sat Feb 5 09:18:16 2009'\n",
    "atpos = data.find('@')\n",
    "print(atpos)\n",
    "sppos = data.find(' ',atpos)\n",
    "print(sppos)\n",
    "host = data[atpos+1:sppos]\n",
    "print(host)"
   ]
  },
  {
   "cell_type": "code",
   "execution_count": null,
   "metadata": {
    "collapsed": true
   },
   "outputs": [],
   "source": []
  }
 ],
 "metadata": {
  "kernelspec": {
   "display_name": "Python 3",
   "language": "python",
   "name": "python3"
  },
  "language_info": {
   "codemirror_mode": {
    "name": "ipython",
    "version": 3
   },
   "file_extension": ".py",
   "mimetype": "text/x-python",
   "name": "python",
   "nbconvert_exporter": "python",
   "pygments_lexer": "ipython3",
   "version": "3.6.0"
  }
 },
 "nbformat": 4,
 "nbformat_minor": 2
}
