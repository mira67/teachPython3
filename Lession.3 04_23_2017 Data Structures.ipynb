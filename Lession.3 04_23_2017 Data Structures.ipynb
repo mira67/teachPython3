{
 "cells": [
  {
   "cell_type": "markdown",
   "metadata": {},
   "source": [
    "# Outline: Data Structures\n",
    "<ul>\n",
    "<li>Strings</li>\n",
    "<li>Files</li>\n",
    "<li>Lists</li>\n",
    "<ul>"
   ]
  },
  {
   "cell_type": "markdown",
   "metadata": {},
   "source": [
    "# Part 1: Strings (index, length)\n",
    "\n",
    "## String Index, slices\n",
    "<ol>\n",
    "<li>A string is a sequence of characeters.</li>\n",
    "<li>We can get at any single character in a string using an index specified in square brackets</li>\n",
    "<li>The index value must be an integer\n",
    "and starts at <b>zero</b></li>\n",
    "<li>The index value can be an expression that is computed</li>\n",
    "<li>A segment of a string is called a 'slice'</li>\n",
    "<li>slice operator:\n",
    "The operator returns the part of the string\n",
    "from the “n-eth” character to the “m-eth” character,\n",
    "including the first but excluding the last.</li>\n",
    "<ol>"
   ]
  },
  {
   "cell_type": "code",
   "execution_count": null,
   "metadata": {
    "collapsed": false
   },
   "outputs": [],
   "source": [
    "#practice string indexing\n",
    "fruit = 'apple'\n",
    "letter = fruit[1]\n",
    "print(letter)"
   ]
  },
  {
   "cell_type": "code",
   "execution_count": null,
   "metadata": {
    "collapsed": false
   },
   "outputs": [],
   "source": [
    "#string slice\n",
    "s = 'hello world'\n",
    "print(s[0:5])\n",
    "print(s[6:11])\n",
    "print(s[:3])\n",
    "print(s[4:])\n",
    "print(s[5:5])#empty string result\n",
    "print(s[:])#full string"
   ]
  },
  {
   "cell_type": "markdown",
   "metadata": {},
   "source": [
    "## String Length, Traversal through a string, Strings are immutable\n",
    "<ol>\n",
    "<li>len(), a built-in function to calculate the length of a string.</li>\n",
    "<li>process a string one characeter at a time using whil or for loop</li>\n",
    "<ol>"
   ]
  },
  {
   "cell_type": "code",
   "execution_count": null,
   "metadata": {
    "collapsed": false
   },
   "outputs": [],
   "source": [
    "#practice len() function on strings\n",
    "fruit = 'pineapple'\n",
    "x = len(fruit)\n",
    "print(x)"
   ]
  },
  {
   "cell_type": "code",
   "execution_count": null,
   "metadata": {
    "collapsed": false
   },
   "outputs": [],
   "source": [
    "#traversal through a string with a loop\n",
    "#using while loop\n",
    "index = 0\n",
    "while index < len(fruit):\n",
    "    letter = fruit[index]\n",
    "    print(letter)\n",
    "    index = index + 1\n",
    "\n",
    "#using for loop\n",
    "for char in fruit:\n",
    "    print(char)"
   ]
  },
  {
   "cell_type": "code",
   "execution_count": null,
   "metadata": {
    "collapsed": false
   },
   "outputs": [],
   "source": [
    "#strings are immutable\n",
    "s='test'\n",
    "s[0] = 't'"
   ]
  },
  {
   "cell_type": "markdown",
   "metadata": {},
   "source": [
    "## String 'in' operator, comparison\n",
    "<ol>\n",
    "<li>'in' is a boolean operator that takes two strings and returns True if the first appears as a substring in the second.</li>\n",
    "<li>comparison operators work on strings</li>\n",
    "<ol>"
   ]
  },
  {
   "cell_type": "code",
   "execution_count": null,
   "metadata": {
    "collapsed": true
   },
   "outputs": [],
   "source": [
    "#in operator\n",
    "'p' in 'apple'"
   ]
  },
  {
   "cell_type": "code",
   "execution_count": null,
   "metadata": {
    "collapsed": true
   },
   "outputs": [],
   "source": [
    "#string comparison\n",
    "s = 'apple'\n",
    "if s == 'apple':\n",
    "    print('right, apple')"
   ]
  },
  {
   "cell_type": "code",
   "execution_count": null,
   "metadata": {
    "collapsed": true
   },
   "outputs": [],
   "source": [
    "#more string comparisons, ascii code\n",
    "s = 'Banana'\n",
    "if s < 'banana':\n",
    " print('Your string,' + s + ', comes before banana.')\n",
    "elif s > 'banana':\n",
    " print('Your string,' + s + ', comes after banana.')\n",
    "else:\n",
    " print('All right, bananas.')"
   ]
  },
  {
   "cell_type": "markdown",
   "metadata": {},
   "source": [
    "## String methods\n",
    "<ol>\n",
    "<li>Strings are an example of Python objects. An object contains both <b>data</b> (the actual string itself) and <b>methods</b>, which are effectively functions that are built into the object and are available to any instance of the object.</li>\n",
    "<li>The type function shows the type of an object and the dir() function shows the available methods</li>\n",
    "<ol>"
   ]
  },
  {
   "cell_type": "code",
   "execution_count": null,
   "metadata": {
    "collapsed": true
   },
   "outputs": [],
   "source": [
    "#dir() to list function of an object\n",
    "s = 'python course'\n",
    "print(type(s))\n",
    "print(dir(s))#? what are the first part of functions?"
   ]
  },
  {
   "cell_type": "code",
   "execution_count": null,
   "metadata": {
    "collapsed": true
   },
   "outputs": [],
   "source": [
    "#use help() to get simple documentation on a method\n",
    "help(str.capitalize)"
   ]
  },
  {
   "cell_type": "code",
   "execution_count": null,
   "metadata": {
    "collapsed": true
   },
   "outputs": [],
   "source": [
    "#method example\n",
    "#upper case\n",
    "word = 'apple'\n",
    "new_word = word.upper()\n",
    "print(new_word)\n",
    "\n",
    "#find\n",
    "index = word.find('p')\n",
    "print('index: ',index)\n",
    "\n",
    "index = word.find('p',2)\n",
    "print('index: ',index)\n",
    "\n",
    "#remove white space (spaces, tabs, or new lines) \n",
    "#from the beginning and end of a string\n",
    "line = ' Let us start '\n",
    "print(line)\n",
    "print(line.strip())\n",
    "\n",
    "#startwith() method\n",
    "line = 'Have a nice day'\n",
    "print(line.startswith('Have'))\n",
    "print(line.startswith('h'))"
   ]
  },
  {
   "cell_type": "markdown",
   "metadata": {},
   "source": [
    "### Exercise 1 - String Parsing\n",
    "E1: Often, we want to look into a string and find a substring. For example if we were presented a series of lines formatted as follows:<br>\n",
    "From alberta.nicolas@umc.az.co Sat Feb 5 09:18:16 2009<br>\n",
    "Task: pull out only the second half of the email address (i.e., umc.az.co)\n"
   ]
  },
  {
   "cell_type": "code",
   "execution_count": null,
   "metadata": {
    "collapsed": false
   },
   "outputs": [],
   "source": [
    "#exercise code\n",
    "data = 'From alberta.nicolas@umc.az.co Sat Feb 5 09:18:16 2009'\n",
    "atpos = data.find('@')\n",
    "print(atpos)\n",
    "sppos = data.find(' ',atpos)\n",
    "print(sppos)\n",
    "host = data[atpos+1:sppos]\n",
    "print(host)"
   ]
  },
  {
   "cell_type": "markdown",
   "metadata": {
    "collapsed": true
   },
   "source": [
    "# Part 2: Files\n",
    "\n",
    "## Opening, Reading, Writing files\n",
    "<ol>\n",
    "<li>A text file can be thought of as a sequence of lines</li>\n",
    "<li>open() function to tell python which file we are going to work with, and what operation we will be doing</li>\n",
    "<li>open() returns a “file handle” - a variable used to perform operations\n",
    "on the file</li>\n",
    "<li>A file handle open for read can be treated as a sequence of strings where each line in the file is a string in the sequence</li>\n",
    "</ol>"
   ]
  },
  {
   "cell_type": "code",
   "execution_count": null,
   "metadata": {
    "collapsed": false
   },
   "outputs": [],
   "source": [
    "#read txt file line by line\n",
    "fhand = open('py3.txt')\n",
    "print(fhand)\n",
    "count = 0\n",
    "for line in fhand:\n",
    "    count = count + 1\n",
    "    print(count,line)#print statement adds a newline to each line"
   ]
  },
  {
   "cell_type": "code",
   "execution_count": null,
   "metadata": {
    "collapsed": false
   },
   "outputs": [],
   "source": [
    "#read the whole file into a single string\n",
    "fhand = open('py3.txt')\n",
    "inp = fhand.read()\n",
    "print(inp)"
   ]
  },
  {
   "cell_type": "markdown",
   "metadata": {},
   "source": [
    "### Exercise 2 - Parsing a text file\n",
    "E2: Read py3.txt, count the number of lines that start with 'hello' or 'Hello'. Note: add fault protection to prevent the case when a file is not existed.  "
   ]
  },
  {
   "cell_type": "code",
   "execution_count": null,
   "metadata": {
    "collapsed": false
   },
   "outputs": [],
   "source": [
    "#writing file\n",
    "fout = open('py3_output.txt', 'w')\n",
    "print(fout)"
   ]
  },
  {
   "cell_type": "markdown",
   "metadata": {},
   "source": [
    "<font color='red'>If the file already exists, opening it in write mode clears out the old data and starts fresh, so be careful! If the file doesn’t exist, a new one is created.</font>"
   ]
  },
  {
   "cell_type": "code",
   "execution_count": null,
   "metadata": {
    "collapsed": true
   },
   "outputs": [],
   "source": [
    "line1 = \"this is the first line\\n\"\n",
    "fout.write(line1)\n",
    "#close and save content\n",
    "fout.close()"
   ]
  },
  {
   "cell_type": "markdown",
   "metadata": {},
   "source": [
    "# Part 3: Lists\n",
    "\n",
    "## List constants\n",
    "<ol>\n",
    "<li>List constants are surrounded by '[]' brackets and the elements in the list are separated by ','</li>\n",
    "<li>An element in a list can be any Python object - even another list</li>\n",
    "<li>A list can be empty</li>\n",
    "</ol>"
   ]
  },
  {
   "cell_type": "code",
   "execution_count": null,
   "metadata": {
    "collapsed": false
   },
   "outputs": [],
   "source": [
    "#list examples\n",
    "print([1,5,10])\n",
    "print(['apple','banana','orange'])\n",
    "print([1,3,[9,10]])\n",
    "print([])"
   ]
  },
  {
   "cell_type": "markdown",
   "metadata": {},
   "source": [
    "## List indexing, lists are mutable, len()\n",
    "<ol>\n",
    "<li>list element is accessible using index in [index]</li>\n",
    "<li>we can change an element of a list using the index operator</li>\n",
    "<li>The len() function takes a list as a parameter and returns the number of elements in the list</li>\n",
    "</ol>"
   ]
  },
  {
   "cell_type": "code",
   "execution_count": null,
   "metadata": {
    "collapsed": false
   },
   "outputs": [],
   "source": [
    "#list indexing, slicing\n",
    "fib = [1,1,2,3,5,8,[56,78]]\n",
    "print(fib[2])\n",
    "print(fib[3:6])\n",
    "\n",
    "#list is mutable\n",
    "fib[6] = 55\n",
    "print(fib)\n",
    "\n",
    "#len()\n",
    "print('number of elements in the list:', len(fib))"
   ]
  },
  {
   "cell_type": "markdown",
   "metadata": {},
   "source": [
    "## Concatenating lists\n",
    "<ol>\n",
    "<li>we can create a new list by adding two existing lists together\n",
    "</li>\n",
    "</ol>"
   ]
  },
  {
   "cell_type": "code",
   "execution_count": null,
   "metadata": {
    "collapsed": false
   },
   "outputs": [],
   "source": [
    "#concatenating lists\n",
    "a = [1, 2, 3]\n",
    "b = [4, 5, 6]\n",
    "c = a + b\n",
    "print(c)\n",
    "\n",
    "#list multiplication\n",
    "[1,2,3]*3"
   ]
  },
  {
   "cell_type": "markdown",
   "metadata": {},
   "source": [
    "## List methods\n",
    "<font color='red'>Think: how to find all the available functions for a list?</font>"
   ]
  },
  {
   "cell_type": "code",
   "execution_count": null,
   "metadata": {
    "collapsed": false
   },
   "outputs": [],
   "source": [
    "#list methods\n",
    "x = list()#create an empty list\n",
    "type(x)\n",
    "dir(x)"
   ]
  },
  {
   "cell_type": "code",
   "execution_count": null,
   "metadata": {
    "collapsed": false
   },
   "outputs": [],
   "source": [
    "#append, adds a new element to the end of a list\n",
    "fruit = list()\n",
    "fruit.append('apple')\n",
    "fruit.append('banana')\n",
    "print(fruit)"
   ]
  },
  {
   "cell_type": "code",
   "execution_count": null,
   "metadata": {
    "collapsed": false
   },
   "outputs": [],
   "source": [
    "#extend, takes a list as an argument and appends all of the elements\n",
    "fruit.extend(['peach','grape'])\n",
    "print(fruit)"
   ]
  },
  {
   "cell_type": "code",
   "execution_count": null,
   "metadata": {
    "collapsed": false
   },
   "outputs": [],
   "source": [
    "#is something in a list?\n",
    "nlist = [1,3,4,5,7,3,2]\n",
    "print(9 in nlist)\n",
    "print(7 in nlist)\n",
    "print(7 not in nlist)"
   ]
  },
  {
   "cell_type": "code",
   "execution_count": null,
   "metadata": {
    "collapsed": false
   },
   "outputs": [],
   "source": [
    "#sort a list, why this example doesn't work?\n",
    "nlist = [7,6,5,3,2,1]\n",
    "nlist.sort()#void method\n",
    "print(nlist)\n",
    "\n",
    "t = ['d', 'c', 'e', 'b', 'a']\n",
    "t.sort()\n",
    "print(t)"
   ]
  },
  {
   "cell_type": "code",
   "execution_count": null,
   "metadata": {
    "collapsed": false
   },
   "outputs": [],
   "source": [
    "#delete from a list\n",
    "t = ['a', 'b', 'c']\n",
    "x = t.pop(1)\n",
    "print(t)\n",
    "print(x)\n",
    "\n",
    "#del t[1]\n",
    "#del t[1:5]\n",
    "#t.remove('b')"
   ]
  },
  {
   "cell_type": "markdown",
   "metadata": {},
   "source": [
    "## Built-in functions for lists\n",
    "len(), max(), min(), sum()<br>\n",
    "Try those functions after class."
   ]
  },
  {
   "cell_type": "markdown",
   "metadata": {},
   "source": [
    "## Lists and Strings"
   ]
  },
  {
   "cell_type": "code",
   "execution_count": null,
   "metadata": {
    "collapsed": false
   },
   "outputs": [],
   "source": [
    "#convert string to list of letters\n",
    "s = 'apple'\n",
    "t = list(s)\n",
    "print(t)"
   ]
  },
  {
   "cell_type": "code",
   "execution_count": null,
   "metadata": {
    "collapsed": false
   },
   "outputs": [],
   "source": [
    "#convert string to list of word\n",
    "s = 'I want an apple'\n",
    "t = s.split()#also support a delimiter argument\n",
    "print(t)"
   ]
  },
  {
   "cell_type": "code",
   "execution_count": null,
   "metadata": {
    "collapsed": false
   },
   "outputs": [],
   "source": [
    "#join a list of strings\n",
    "delimiter = '-'\n",
    "s2 = delimiter.join(t)\n",
    "print(s2)"
   ]
  },
  {
   "cell_type": "code",
   "execution_count": null,
   "metadata": {
    "collapsed": false
   },
   "outputs": [],
   "source": [
    "str = \" this is string example....wow!!! \";\n",
    "print(str.rstrip())"
   ]
  },
  {
   "cell_type": "markdown",
   "metadata": {},
   "source": [
    "## Objects, values, aliasing and list as argument\n",
    "a and b both refer to a string, but we don’t know whether they refer to the same string?"
   ]
  },
  {
   "cell_type": "code",
   "execution_count": null,
   "metadata": {
    "collapsed": false
   },
   "outputs": [],
   "source": [
    "#object and reference\n",
    "a = 'apple'\n",
    "b = 'apple'\n",
    "a is b"
   ]
  },
  {
   "cell_type": "code",
   "execution_count": null,
   "metadata": {
    "collapsed": false
   },
   "outputs": [],
   "source": [
    "a = [1, 2, 3]\n",
    "b = [1, 2, 3]\n",
    "a is b"
   ]
  },
  {
   "cell_type": "markdown",
   "metadata": {},
   "source": [
    "the two lists are equivalent, because they have the same elements, but not identical, because they are not the same object. If two objects are identical, they are also equivalent, but if they are equivalent, they are not necessarily identical."
   ]
  },
  {
   "cell_type": "markdown",
   "metadata": {},
   "source": [
    "If a refers to an object and you assign b = a, then both variables refer to the same object"
   ]
  },
  {
   "cell_type": "code",
   "execution_count": null,
   "metadata": {
    "collapsed": false
   },
   "outputs": [],
   "source": [
    "a = [1, 2, 3]\n",
    "b = a\n",
    "b is a"
   ]
  },
  {
   "cell_type": "markdown",
   "metadata": {},
   "source": [
    "An object with more than one reference has more than one name, so we say that the object is aliased.\n",
    "If the aliased object is mutable, changes made with one alias affect the other."
   ]
  },
  {
   "cell_type": "code",
   "execution_count": null,
   "metadata": {
    "collapsed": false
   },
   "outputs": [],
   "source": [
    "b[0] = 'change'\n",
    "print(a)"
   ]
  },
  {
   "cell_type": "markdown",
   "metadata": {},
   "source": [
    "When you pass a list to a function, the function gets a reference to the list. If the function modifies a list parameter, the caller sees the change."
   ]
  },
  {
   "cell_type": "code",
   "execution_count": null,
   "metadata": {
    "collapsed": true
   },
   "outputs": [],
   "source": [
    "def delete_first(t):\n",
    "    del t[0]#modify list\n",
    "    #t = t[1:]#create new list"
   ]
  },
  {
   "cell_type": "code",
   "execution_count": null,
   "metadata": {
    "collapsed": false
   },
   "outputs": [],
   "source": [
    "letters = ['a', 'b', 'c']\n",
    "delete_first(letters)\n",
    "print(letters)"
   ]
  },
  {
   "cell_type": "code",
   "execution_count": null,
   "metadata": {
    "collapsed": false
   },
   "outputs": [],
   "source": [
    "#copy a list\n",
    "letters = ['a', 'b', 'c']\n",
    "new_list = letters[:]\n",
    "delete_first(new_list)\n",
    "print(letters)\n",
    "print(new_list)"
   ]
  },
  {
   "cell_type": "markdown",
   "metadata": {},
   "source": [
    "### Homework\n",
    "H1: Write a Python program to count the number of strings where the string length is 2 or more and the first and last character are same from a given list of strings. <br>\n",
    "Sample List : ['abc', 'xyz', 'aba', '1221']\n",
    "Expected Result : 2"
   ]
  },
  {
   "cell_type": "code",
   "execution_count": null,
   "metadata": {
    "collapsed": true
   },
   "outputs": [],
   "source": []
  }
 ],
 "metadata": {
  "kernelspec": {
   "display_name": "Python 3",
   "language": "python",
   "name": "python3"
  },
  "language_info": {
   "codemirror_mode": {
    "name": "ipython",
    "version": 3
   },
   "file_extension": ".py",
   "mimetype": "text/x-python",
   "name": "python",
   "nbconvert_exporter": "python",
   "pygments_lexer": "ipython3",
   "version": "3.6.0"
  }
 },
 "nbformat": 4,
 "nbformat_minor": 2
}
