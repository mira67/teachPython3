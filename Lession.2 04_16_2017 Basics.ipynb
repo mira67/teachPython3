{
 "cells": [
  {
   "cell_type": "markdown",
   "metadata": {
    "collapsed": true
   },
   "source": [
    "# Part 1: Variables, Expressions, and Statement"
   ]
  },
  {
   "cell_type": "markdown",
   "metadata": {},
   "source": [
    "## Values and Types"
   ]
  },
  {
   "cell_type": "markdown",
   "metadata": {},
   "source": [
    "<ol>\n",
    "  <li>A <b>value</b> is one of the basic things a program works with, like a letter or a number. The values we have seen so far are 1, 2, and “Hello, World!”</li>\n",
    "  <li><b>String</b> values use single quote (') or double quotes ('')</li>\n",
    "  <li>Numbers with a <b>decimal point</b> belong to a type called <b>float</b>, i.e., 2.5</li>\n",
    "</ol>"
   ]
  },
  {
   "cell_type": "markdown",
   "metadata": {},
   "source": [
    "<font color=\"red\">If you are not sure what type a value has, the interpreter can tell you.</font>\n",
    "<br>\n",
    "<font color=\"blue\">Practice with print() statement and type()</font> "
   ]
  },
  {
   "cell_type": "code",
   "execution_count": 7,
   "metadata": {
    "collapsed": false
   },
   "outputs": [
    {
     "name": "stdout",
     "output_type": "stream",
     "text": [
      "4\n",
      "hello world\n",
      "<class 'str'>\n",
      "<class 'int'>\n",
      "<class 'float'>\n"
     ]
    }
   ],
   "source": [
    "print(4)\n",
    "print('hello world')\n",
    "print(type('fish'))\n",
    "print(type(6))\n",
    "print(type(2.5))"
   ]
  },
  {
   "cell_type": "markdown",
   "metadata": {
    "collapsed": true
   },
   "source": [
    "## Variable names and keywords"
   ]
  },
  {
   "cell_type": "markdown",
   "metadata": {},
   "source": [
    "<ol>\n",
    "  <li>Must start with a letter or underscore _ </li>\n",
    "  <li>Must consist of letters and numbers and underscores</li>\n",
    "  <li>Case Sensitive</li>\n",
    "</ol>\n",
    "\n",
    "<ul>\n",
    "<li><font color=\"green\">Good</font>: spam eggs spam23 _speed<br></li>\n",
    "<li><font color=\"red\">Bad</font>: 23spam #sign var.12<br></li>\n",
    "<li><font color=\"blue\">Different</font>: spam Spam SPAM</li>\n",
    "</ul>\n",
    "\n",
    "<b><font color=\"red\">Python reserves 33 keywords, which cannot be used as variable names</font></b>: <br>and\n",
    "del from\n",
    "None\n",
    "True as elif\n",
    "global nonlocal try\n",
    "assert else\n",
    "if\n",
    "not\n",
    "while<br>\n",
    "break except import or\n",
    "with\n",
    "class False\n",
    "in pass yield\n",
    "continue finally is\n",
    "raise\n",
    "def\n",
    "for lambda return"
   ]
  },
  {
   "cell_type": "markdown",
   "metadata": {},
   "source": [
    "## Operators and operands\n",
    "\n",
    "<ol>\n",
    "<li>The operators +, -, \\*, /, and \\**, \\% perform addition, subtraction, multiplication, division, exponentiation and remainder</li>\n",
    "<li>floored ( // integer) division</li>\n",
    "</ol>\n",
    "\n",
    "<font color=\"blue\">Practice with operators</font> "
   ]
  },
  {
   "cell_type": "code",
   "execution_count": null,
   "metadata": {
    "collapsed": false
   },
   "outputs": [
    {
     "name": "stdout",
     "output_type": "stream",
     "text": [
      "z0:5.00, z1:6.00, z2:0.67, z3:8.00, z4:2.00, z5:0.00\n"
     ]
    }
   ],
   "source": [
    "x=2\n",
    "y=3\n",
    "z0 = x+y\n",
    "z1 = x*y\n",
    "z2 = x/y\n",
    "z3 = x**y\n",
    "z4 = x%y\n",
    "z5 = x//y\n",
    "\n",
    "print('z0:%.2f, z1:%.2f, z2:%.2f, z3:%.2f, z4:%.2f, z5:%.2f' % (z0,z1,z2,z3,z4,z5))"
   ]
  },
  {
   "cell_type": "markdown",
   "metadata": {},
   "source": [
    "## Type conversion，String Operarion, User Input and Comments\n",
    "\n",
    "<ol>\n",
    "<li>When you put an integer and floating point in an expression, the integer is implicitly converted to a float</li>\n",
    "<li>You can use the built-in functions int(), float() and str() to convert between int, float and strings</li>\n",
    "<li>Some operators apply to strings: + implies “concatenation”, \\* implies “multiple concatenation”</li>\n",
    "<li>User input function: input()</li>\n",
    "<li>Comment in python: Anything after a # is ignored by Python</li>\n",
    "</ol>\n",
    "\n",
    "<font color=\"blue\">Practice type conversions, string operations and comments</font>\n",
    "\n"
   ]
  },
  {
   "cell_type": "code",
   "execution_count": null,
   "metadata": {
    "collapsed": false
   },
   "outputs": [
    {
     "name": "stdout",
     "output_type": "stream",
     "text": [
      "<class 'float'>\n",
      "4 <class 'int'>\n",
      "3.0 <class 'float'>\n",
      "3.45 <class 'float'>\n",
      "2 <class 'str'>\n",
      "3.5 <class 'str'>\n",
      "abc123\n",
      "hihihihihi\n"
     ]
    }
   ],
   "source": [
    "#implicitly convert from int to a float\n",
    "x=1\n",
    "y=2.2\n",
    "print(type(x+y))\n",
    "\n",
    "#int(), float(), str()\n",
    "print(int(4.5),type(int(4.5)))\n",
    "print(float(3),type(float(3)))\n",
    "print(float('3.45'),type(float('3.45')))\n",
    "print(str(2),type(str(2)))\n",
    "print(str(3.5),type(str(3.5)))\n",
    "\n",
    "#string operations\n",
    "print('abc'+'123')\n",
    "print('hi'*5)\n",
    "\n",
    "#get user input\n",
    "name = input('What is your name?\\n')\n",
    "print('your name is: ', name)\n",
    "\n",
    "temperature = input('What...is the temperature today (C)?\\n')\n",
    "print('Temperature is: %d (C)' % int(temperature))"
   ]
  },
  {
   "cell_type": "markdown",
   "metadata": {},
   "source": [
    "### In Class Exercise 1\n",
    "\n",
    "E1: Write a program to prompt the user for hours and rate per hour to compute and print gross pay.<br>\n",
    "Enter Hours: 35<br>\n",
    "Enter Rate: 2.75<br>Pay: 96.25"
   ]
  },
  {
   "cell_type": "markdown",
   "metadata": {},
   "source": [
    "# Part 2: Condition, Functions, Iterations"
   ]
  },
  {
   "cell_type": "markdown",
   "metadata": {},
   "source": [
    "## Conditional Execution\n",
    "Boolean operations:<br>\n",
    "x != y #x is not equal to y <br>\n",
    "x > y #x is greater than y<br>\n",
    "x < y #x is less than y<br>\n",
    "x >= y #x is greater than or equal to y<br>\n",
    "x <= y #x is less than or equal to y<br>\n",
    "x is y #x is the same as y<br>\n",
    "x is not y #x is not the same as y<br>\n",
    "\n",
    "Logical operators: <br>\n",
    "and, or, not\n",
    "\n",
    "<font color=\"blue\">Practice conditional execution: if, elif, else</font>"
   ]
  },
  {
   "cell_type": "code",
   "execution_count": null,
   "metadata": {
    "collapsed": false
   },
   "outputs": [],
   "source": [
    "choice = input('your choice: a,b,c?\\n')\n",
    "\n",
    "if choice == 'a': \n",
    "    print('Bad guess')\n",
    "elif choice == 'b': \n",
    "    print('Good guess')\n",
    "elif choice == 'c': \n",
    "    print('Close, but not correct')\n",
    "else:\n",
    "    print('Bad input!')"
   ]
  },
  {
   "cell_type": "markdown",
   "metadata": {},
   "source": [
    "## Catching exceptions using try and except"
   ]
  },
  {
   "cell_type": "code",
   "execution_count": null,
   "metadata": {
    "collapsed": false
   },
   "outputs": [],
   "source": [
    "inp = input('Enter Fahrenheit Temperature:') \n",
    "try:\n",
    "    fahr = float(inp)\n",
    "    cel = (fahr - 32.0) * 5.0 / 9.0 \n",
    "    print(cel)\n",
    "except: \n",
    "    print('Please enter a number')"
   ]
  },
  {
   "cell_type": "markdown",
   "metadata": {},
   "source": [
    "### In Class Exercise 2\n",
    "\n",
    "E2: (1) Rewrite your pay computation to give the employee 1.5 times the hourly rate <b>for hours</b> worked above 40 hours. <br> \n",
    "(2) Rewrite your pay program using try and except so that your program handles non-numeric input gracefully by printing a message and exiting the program.\n",
    "Enter Hours: 45 <br>\n",
    "Enter Rate: 10 <br>\n",
    "Pay: 475.0 (475 = 40 \\* 10 + 5 \\* 15)\n"
   ]
  },
  {
   "cell_type": "markdown",
   "metadata": {},
   "source": [
    "## Functions\n",
    "<ol>\n",
    "<li>Built-in functions that are provided as part of Python - input(), type(), float(), int() ...</li>\n",
    "<li>Functions that we define ourselves and then use</li>\n",
    "<li>We treat the built-in function names as “new” reserved keywords (i.e., we avoid them as variable names)</li>\n",
    "</ol>\n",
    "\n",
    "### Additional Functions\n",
    "<b>Built-in Functions</b>\n",
    "max(), min(), len()<br>\n",
    "<b>Random Number generation Functions</b>\n",
    "random() - returns a random float between 0.0-1.0<br>\n",
    "randint(low, high),randint takes the parameters low and high, and returns an integer between low and high (including both)<br>\n",
    "choice(sequence), to choose an element from a sequence at random, you can use choice<br>\n",
    "Random module also provides functions to generate random values from con- tinuous distributions including Gaussian, exponential, gamma, and a few more.\n",
    "<b>Math Functions</b>\n",
    "\n",
    "<font color=\"blue\">Using functions</font>"
   ]
  },
  {
   "cell_type": "code",
   "execution_count": 1,
   "metadata": {
    "collapsed": false
   },
   "outputs": [
    {
     "name": "stdout",
     "output_type": "stream",
     "text": [
      "w\n",
      " \n",
      "11\n"
     ]
    }
   ],
   "source": [
    "#built-in functions, can be used directly\n",
    "x='hello world'\n",
    "print(max(x))\n",
    "print(min(x))\n",
    "print(len(x))"
   ]
  },
  {
   "cell_type": "code",
   "execution_count": 18,
   "metadata": {
    "collapsed": false
   },
   "outputs": [
    {
     "name": "stdout",
     "output_type": "stream",
     "text": [
      "<module 'random' from 'C:\\\\ProgramData\\\\Anaconda3\\\\lib\\\\random.py'>\n",
      "0.9811169964827182\n",
      "0.9590285317308349\n",
      "0.4900196233089744\n",
      "9\n",
      "2\n"
     ]
    }
   ],
   "source": [
    "#randome numbers, need import from modules\n",
    "import random\n",
    "print(random)\n",
    "for i in range(3):\n",
    "    x = random.random()\n",
    "    print(x)\n",
    "    \n",
    "#random int\n",
    "print(random.randint(5, 10))\n",
    "#random choice\n",
    "t = [1, 2, 3]\n",
    "print(random.choice(t))"
   ]
  },
  {
   "cell_type": "code",
   "execution_count": 26,
   "metadata": {
    "collapsed": false
   },
   "outputs": [
    {
     "name": "stdout",
     "output_type": "stream",
     "text": [
      "<module 'math' (built-in)>\n",
      "0.644217687237691\n",
      "0.7071067811865476\n",
      "3.141592653589793\n"
     ]
    }
   ],
   "source": [
    "#math functions, built-in\n",
    "import math\n",
    "print(math)\n",
    "radians = 0.7\n",
    "print(math.sin(radians))#cos(), tan(), ..., log10(), pi\n",
    "\n",
    "print(math.sqrt(2) / 2.0)\n",
    "\n",
    "print(math.pi)"
   ]
  },
  {
   "cell_type": "markdown",
   "metadata": {},
   "source": [
    "### Adding New Functions\n",
    "<font color=\"blue\">Practicing adding functions</font>"
   ]
  },
  {
   "cell_type": "code",
   "execution_count": 30,
   "metadata": {
    "collapsed": false
   },
   "outputs": [
    {
     "name": "stdout",
     "output_type": "stream",
     "text": [
      "x= 3\n",
      "returned value:  Hello\n"
     ]
    }
   ],
   "source": [
    "def greet(y,z):\n",
    "    x = y+z\n",
    "    print('x=',x)\n",
    "    return \"Hello\"\n",
    "\n",
    "r = greet(1,2)\n",
    "print('returned value: ',r)"
   ]
  },
  {
   "cell_type": "markdown",
   "metadata": {},
   "source": [
    "### In Class Exercise 3\n",
    "\n",
    "E3: Rewrite your pay computation with time-and-a-half for overtime and create a function called computepay which takes two parameters (hours and rate)"
   ]
  },
  {
   "cell_type": "markdown",
   "metadata": {},
   "source": [
    "## Iterations\n",
    "while, for"
   ]
  },
  {
   "cell_type": "code",
   "execution_count": null,
   "metadata": {
    "collapsed": true
   },
   "outputs": [],
   "source": [
    "#while loop\n",
    "n = 5\n",
    "while n > 0:\n",
    "    print(n)\n",
    "    n = n - 1\n",
    "    print('Blastoff!')"
   ]
  },
  {
   "cell_type": "code",
   "execution_count": 31,
   "metadata": {
    "collapsed": false
   },
   "outputs": [
    {
     "name": "stdout",
     "output_type": "stream",
     "text": [
      "> done\n",
      "Done!\n"
     ]
    }
   ],
   "source": [
    "#while loop with break\n",
    "while True: \n",
    "    line = input('> ')\n",
    "    if line == 'done': \n",
    "        break\n",
    "    print(line)\n",
    "print('Done!')"
   ]
  },
  {
   "cell_type": "code",
   "execution_count": 32,
   "metadata": {
    "collapsed": false
   },
   "outputs": [
    {
     "name": "stdout",
     "output_type": "stream",
     "text": [
      "> #\n",
      "> 1\n",
      "1\n",
      "> done\n",
      "Done!\n"
     ]
    }
   ],
   "source": [
    "#while loop with continue\n",
    "while True:\n",
    "    line = input('> ')\n",
    "    if line[0] == '#':\n",
    "        continue\n",
    "    if line == 'done':\n",
    "        break\n",
    "    print(line)\n",
    "print('Done!')"
   ]
  },
  {
   "cell_type": "code",
   "execution_count": 33,
   "metadata": {
    "collapsed": false
   },
   "outputs": [
    {
     "name": "stdout",
     "output_type": "stream",
     "text": [
      "Happy New Year: Joseph\n",
      "Happy New Year: Glenn\n",
      "Happy New Year: Sally\n",
      "Done!\n"
     ]
    }
   ],
   "source": [
    "#for loop\n",
    "friends = ['Joseph', 'Glenn', 'Sally']#a string list\n",
    "for friend in friends:\n",
    "    print('Happy New Year:', friend)\n",
    "print('Done!')"
   ]
  },
  {
   "cell_type": "code",
   "execution_count": 34,
   "metadata": {
    "collapsed": false
   },
   "outputs": [
    {
     "name": "stdout",
     "output_type": "stream",
     "text": [
      "Before: None\n",
      "Loop: 3 3\n",
      "Loop: 41 41\n",
      "Loop: 12 41\n",
      "Loop: 9 41\n",
      "Loop: 74 74\n",
      "Loop: 15 74\n",
      "Largest: 74\n"
     ]
    }
   ],
   "source": [
    "largest = None\n",
    "print('Before:', largest)\n",
    "for itervar in [3, 41, 12, 9, 74, 15]: \n",
    "    if largest is None or itervar > largest :\n",
    "        largest = itervar\n",
    "    print('Loop:', itervar, largest)\n",
    "print('Largest:', largest)"
   ]
  },
  {
   "cell_type": "markdown",
   "metadata": {},
   "source": [
    "# Extra - Introduction to Matplotlib"
   ]
  },
  {
   "cell_type": "code",
   "execution_count": 35,
   "metadata": {
    "collapsed": true
   },
   "outputs": [],
   "source": [
    "import matplotlib.pyplot as plt"
   ]
  },
  {
   "cell_type": "code",
   "execution_count": 47,
   "metadata": {
    "collapsed": false
   },
   "outputs": [
    {
     "data": {
      "image/png": "[encoded data removed]",
      "text/plain": [
       "<matplotlib.figure.Figure at 0x15af8778748>"
      ]
     },
     "metadata": {},
     "output_type": "display_data"
    }
   ],
   "source": [
    "#scatter plot\n",
    "X = [590,540,740,130,810,300,320,230,470,620,770,250]\n",
    "Y = [32,36,39,52,61,72,77,75,68,57,48,48]\n",
    "plt.scatter(X,Y)\n",
    "#plt.scatter(X, Y, s=60, c='red', marker='^')\n",
    "\n",
    "#adding titles and labels\n",
    "#plt.title('Relationship Between Temperature and Iced Coffee Sales')\n",
    "#plt.xlabel('Cups of Iced Coffee Sold')\n",
    "#plt.ylabel('Temperature in Fahrenheit')\n",
    "\n",
    "#customizing a plot\n",
    "#plt.xlim(0,1000)#new ranges for the axes\n",
    "#plt.ylim(0,100)\n",
    "\n",
    "plt.show()#Every time we create a plot we must also specify that we want the plot to show by using plt.show()."
   ]
  },
  {
   "cell_type": "markdown",
   "metadata": {},
   "source": [
    "<ol>\n",
    "<li>s: size of point, default = 20</li>\n",
    "<li>c: color, sequence, or sequence of color, default = 'b'</li>\n",
    "<li>marker: point symbol, default = 'o'</li>\n",
    "</ol>"
   ]
  },
  {
   "cell_type": "markdown",
   "metadata": {},
   "source": [
    "### <font color=\"blue\">Homework 1</font>\n",
    "\n",
    "H1: Write a program which repeatedly reads numbers until the user enters\n",
    "“done”. Once “done” is entered, print out the average, min, max of the numbers. <br>\n",
    "If the user enters anything other than a number, detect their mistake (i.e., input is non-number) using try and except and print an error message and skip to the next number.<br>\n",
    "If the user enters more than 3 numbers, plot the number sequence using matplotlib, plot an line to represent the average value of the sequence using a different color, and highlight the min, max number using different color or marker types.\n",
    "Tips:<br> (1) you are only allowed to use what have been taught today, and cannot use built-in functions, i.e., min(), max().<br>\n",
    "(2) Try to use functions instead of list statements.<br>\n",
    "(3) For plotting the average line, you can use 'axhline' function in matplotlib"
   ]
  },
  {
   "cell_type": "markdown",
   "metadata": {},
   "source": [
    "<font color=\"Red\">Next lesson: Python Data Structure, 4/23/2017</font>"
   ]
  },
  {
   "cell_type": "code",
   "execution_count": null,
   "metadata": {
    "collapsed": true
   },
   "outputs": [],
   "source": [
    "#plt.axhline(y=50, xmin=0, xmax=1, linewidth=4, color='r')"
   ]
  }
 ],
 "metadata": {
  "kernelspec": {
   "display_name": "Python 3",
   "language": "python",
   "name": "python3"
  },
  "language_info": {
   "codemirror_mode": {
    "name": "ipython",
    "version": 3
   },
   "file_extension": ".py",
   "mimetype": "text/x-python",
   "name": "python",
   "nbconvert_exporter": "python",
   "pygments_lexer": "ipython3",
   "version": "3.6.0"
  }
 },
 "nbformat": 4,
 "nbformat_minor": 2
}
